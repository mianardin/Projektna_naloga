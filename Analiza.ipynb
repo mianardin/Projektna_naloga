{
 "cells": [
  {
   "cell_type": "markdown",
   "metadata": {},
   "source": [
    "# Analiza držav\n",
    "V tej projektni nalogi bom analizirala vse države na svetu. Podatke sem zajela na internetni strani https://www.geograf.in/en/table.php?col1=state&col2=continent&col3=area&col4=population&col5=gdp&col6=life&col7=government&col8=density&col9=religion&filter=0&order_by=state&ascdesc=ASC\n"
   ]
  },
  {
   "cell_type": "code",
   "execution_count": 42,
   "metadata": {},
   "outputs": [],
   "source": [
    "import pandas as pd\n",
    "pd.set_option('display.max_rows', 20)\n",
    "%matplotlib inline\n",
    "drzave = pd.read_csv('države_podatki/drzave.csv', index_col='ime')"
   ]
  },
  {
   "cell_type": "code",
   "execution_count": 43,
   "metadata": {},
   "outputs": [
    {
     "data": {
      "text/html": [
       "<div>\n",
       "<style scoped>\n",
       "    .dataframe tbody tr th:only-of-type {\n",
       "        vertical-align: middle;\n",
       "    }\n",
       "\n",
       "    .dataframe tbody tr th {\n",
       "        vertical-align: top;\n",
       "    }\n",
       "\n",
       "    .dataframe thead th {\n",
       "        text-align: right;\n",
       "    }\n",
       "</style>\n",
       "<table border=\"1\" class=\"dataframe\">\n",
       "  <thead>\n",
       "    <tr style=\"text-align: right;\">\n",
       "      <th></th>\n",
       "      <th>kontinent</th>\n",
       "      <th>območje (km2)</th>\n",
       "      <th>populacija</th>\n",
       "      <th>gdp (USD per capita)</th>\n",
       "      <th>življenska doba (leta)</th>\n",
       "      <th>vlada</th>\n",
       "      <th>gostota (ljudi na km2)</th>\n",
       "      <th>vera</th>\n",
       "    </tr>\n",
       "    <tr>\n",
       "      <th>ime</th>\n",
       "      <th></th>\n",
       "      <th></th>\n",
       "      <th></th>\n",
       "      <th></th>\n",
       "      <th></th>\n",
       "      <th></th>\n",
       "      <th></th>\n",
       "      <th></th>\n",
       "    </tr>\n",
       "  </thead>\n",
       "  <tbody>\n",
       "    <tr>\n",
       "      <th>Afghanistan</th>\n",
       "      <td>Asia</td>\n",
       "      <td>647500</td>\n",
       "      <td>31575018</td>\n",
       "      <td>1976</td>\n",
       "      <td>64.0</td>\n",
       "      <td>presidential republic</td>\n",
       "      <td>49</td>\n",
       "      <td>Sunni Islam</td>\n",
       "    </tr>\n",
       "    <tr>\n",
       "      <th>Albania</th>\n",
       "      <td>Europe</td>\n",
       "      <td>28748</td>\n",
       "      <td>2821977</td>\n",
       "      <td>12943</td>\n",
       "      <td>78.5</td>\n",
       "      <td>republic with parliamentary system</td>\n",
       "      <td>98</td>\n",
       "      <td>Sunni Islam</td>\n",
       "    </tr>\n",
       "    <tr>\n",
       "      <th>Algeria</th>\n",
       "      <td>Africa</td>\n",
       "      <td>2381740</td>\n",
       "      <td>42545964</td>\n",
       "      <td>15292</td>\n",
       "      <td>76.3</td>\n",
       "      <td>semi-presidential republic</td>\n",
       "      <td>18</td>\n",
       "      <td>Sunni Islam</td>\n",
       "    </tr>\n",
       "    <tr>\n",
       "      <th>Andorra</th>\n",
       "      <td>Europe</td>\n",
       "      <td>468</td>\n",
       "      <td>76246</td>\n",
       "      <td>0</td>\n",
       "      <td>81.7</td>\n",
       "      <td>constitutional monarchy based on parlamentarism</td>\n",
       "      <td>163</td>\n",
       "      <td>Catholic Christianity</td>\n",
       "    </tr>\n",
       "    <tr>\n",
       "      <th>Angola</th>\n",
       "      <td>Africa</td>\n",
       "      <td>1246700</td>\n",
       "      <td>29250009</td>\n",
       "      <td>6657</td>\n",
       "      <td>61.8</td>\n",
       "      <td>presidential republic</td>\n",
       "      <td>23</td>\n",
       "      <td>Catholic Christianity and Natural religion</td>\n",
       "    </tr>\n",
       "    <tr>\n",
       "      <th>...</th>\n",
       "      <td>...</td>\n",
       "      <td>...</td>\n",
       "      <td>...</td>\n",
       "      <td>...</td>\n",
       "      <td>...</td>\n",
       "      <td>...</td>\n",
       "      <td>...</td>\n",
       "      <td>...</td>\n",
       "    </tr>\n",
       "    <tr>\n",
       "      <th>Vietnam</th>\n",
       "      <td>Asia</td>\n",
       "      <td>331212</td>\n",
       "      <td>94660000</td>\n",
       "      <td>6790</td>\n",
       "      <td>76.5</td>\n",
       "      <td>republic with single political movement</td>\n",
       "      <td>286</td>\n",
       "      <td>Mahayana Buddhism</td>\n",
       "    </tr>\n",
       "    <tr>\n",
       "      <th>Western Sahara</th>\n",
       "      <td>Africa</td>\n",
       "      <td>266000</td>\n",
       "      <td>567402</td>\n",
       "      <td>0</td>\n",
       "      <td>0.0</td>\n",
       "      <td>other</td>\n",
       "      <td>2</td>\n",
       "      <td>Sunni Islam</td>\n",
       "    </tr>\n",
       "    <tr>\n",
       "      <th>Yemen</th>\n",
       "      <td>Asia</td>\n",
       "      <td>527970</td>\n",
       "      <td>28915284</td>\n",
       "      <td>2606</td>\n",
       "      <td>65.2</td>\n",
       "      <td>other</td>\n",
       "      <td>55</td>\n",
       "      <td>Sunni and Shi'ite Islam</td>\n",
       "    </tr>\n",
       "    <tr>\n",
       "      <th>Zambia</th>\n",
       "      <td>Africa</td>\n",
       "      <td>752614</td>\n",
       "      <td>16887720</td>\n",
       "      <td>4032</td>\n",
       "      <td>62.3</td>\n",
       "      <td>presidential republic</td>\n",
       "      <td>22</td>\n",
       "      <td>Catholic and Protestant Christianity</td>\n",
       "    </tr>\n",
       "    <tr>\n",
       "      <th>Zimbabwe</th>\n",
       "      <td>Africa</td>\n",
       "      <td>390580</td>\n",
       "      <td>14848905</td>\n",
       "      <td>2433</td>\n",
       "      <td>61.7</td>\n",
       "      <td>presidential republic</td>\n",
       "      <td>38</td>\n",
       "      <td>Protestant Christianity</td>\n",
       "    </tr>\n",
       "  </tbody>\n",
       "</table>\n",
       "<p>196 rows × 8 columns</p>\n",
       "</div>"
      ],
      "text/plain": [
       "               kontinent  območje (km2)  populacija  gdp (USD per capita)  \\\n",
       "ime                                                                         \n",
       "Afghanistan         Asia         647500    31575018                  1976   \n",
       "Albania           Europe          28748     2821977                 12943   \n",
       "Algeria           Africa        2381740    42545964                 15292   \n",
       "Andorra           Europe            468       76246                     0   \n",
       "Angola            Africa        1246700    29250009                  6657   \n",
       "...                  ...            ...         ...                   ...   \n",
       "Vietnam             Asia         331212    94660000                  6790   \n",
       "Western Sahara    Africa         266000      567402                     0   \n",
       "Yemen               Asia         527970    28915284                  2606   \n",
       "Zambia            Africa         752614    16887720                  4032   \n",
       "Zimbabwe          Africa         390580    14848905                  2433   \n",
       "\n",
       "                življenska doba (leta)  \\\n",
       "ime                                      \n",
       "Afghanistan                       64.0   \n",
       "Albania                           78.5   \n",
       "Algeria                           76.3   \n",
       "Andorra                           81.7   \n",
       "Angola                            61.8   \n",
       "...                                ...   \n",
       "Vietnam                           76.5   \n",
       "Western Sahara                     0.0   \n",
       "Yemen                             65.2   \n",
       "Zambia                            62.3   \n",
       "Zimbabwe                          61.7   \n",
       "\n",
       "                                                          vlada  \\\n",
       "ime                                                               \n",
       "Afghanistan                               presidential republic   \n",
       "Albania                      republic with parliamentary system   \n",
       "Algeria                              semi-presidential republic   \n",
       "Andorra         constitutional monarchy based on parlamentarism   \n",
       "Angola                                    presidential republic   \n",
       "...                                                         ...   \n",
       "Vietnam                 republic with single political movement   \n",
       "Western Sahara                                            other   \n",
       "Yemen                                                     other   \n",
       "Zambia                                    presidential republic   \n",
       "Zimbabwe                                  presidential republic   \n",
       "\n",
       "                gostota (ljudi na km2)  \\\n",
       "ime                                      \n",
       "Afghanistan                         49   \n",
       "Albania                             98   \n",
       "Algeria                             18   \n",
       "Andorra                            163   \n",
       "Angola                              23   \n",
       "...                                ...   \n",
       "Vietnam                            286   \n",
       "Western Sahara                       2   \n",
       "Yemen                               55   \n",
       "Zambia                              22   \n",
       "Zimbabwe                            38   \n",
       "\n",
       "                                                      vera  \n",
       "ime                                                         \n",
       "Afghanistan                                    Sunni Islam  \n",
       "Albania                                        Sunni Islam  \n",
       "Algeria                                        Sunni Islam  \n",
       "Andorra                              Catholic Christianity  \n",
       "Angola          Catholic Christianity and Natural religion  \n",
       "...                                                    ...  \n",
       "Vietnam                                  Mahayana Buddhism  \n",
       "Western Sahara                                 Sunni Islam  \n",
       "Yemen                              Sunni and Shi'ite Islam  \n",
       "Zambia                Catholic and Protestant Christianity  \n",
       "Zimbabwe                           Protestant Christianity  \n",
       "\n",
       "[196 rows x 8 columns]"
      ]
     },
     "execution_count": 43,
     "metadata": {},
     "output_type": "execute_result"
    }
   ],
   "source": [
    "drzave"
   ]
  },
  {
   "cell_type": "code",
   "execution_count": 44,
   "metadata": {},
   "outputs": [
    {
     "data": {
      "text/plain": [
       "kontinent\n",
       "Africa     55\n",
       "America    35\n",
       "Asia       46\n",
       "Europe     46\n",
       "Oceania    14\n",
       "dtype: int64"
      ]
     },
     "execution_count": 44,
     "metadata": {},
     "output_type": "execute_result"
    }
   ],
   "source": [
    "drzave.groupby(\"kontinent\").size()"
   ]
  },
  {
   "cell_type": "code",
   "execution_count": 45,
   "metadata": {},
   "outputs": [
    {
     "data": {
      "text/plain": [
       "<Axes: xlabel='kontinent'>"
      ]
     },
     "execution_count": 45,
     "metadata": {},
     "output_type": "execute_result"
    },
    {
     "data": {
      "image/png": "[encoded data removed]",
      "text/plain": [
       "<Figure size 640x480 with 1 Axes>"
      ]
     },
     "metadata": {},
     "output_type": "display_data"
    }
   ],
   "source": [
    "st_prebivalcev_na_kontinentu = drzave.groupby(by=\"kontinent\")[\"populacija\"].sum()\n",
    "st_prebivalcev_na_kontinentu.sort_values(inplace = True, ascending = False)\n",
    "st_prebivalcev_na_kontinentu.plot.bar()"
   ]
  },
  {
   "cell_type": "code",
   "execution_count": 46,
   "metadata": {},
   "outputs": [
    {
     "data": {
      "text/plain": [
       "<Axes: xlabel='kontinent'>"
      ]
     },
     "execution_count": 46,
     "metadata": {},
     "output_type": "execute_result"
    },
    {
     "data": {
      "image/png": "[encoded data removed]",
      "text/plain": [
       "<Figure size 640x480 with 1 Axes>"
      ]
     },
     "metadata": {},
     "output_type": "display_data"
    }
   ],
   "source": [
    "gostota_na_kontinentu = drzave.groupby(by=\"kontinent\")[\"gostota (ljudi na km2)\"].sum()\n",
    "gostota_na_kontinentu.sort_values(inplace = True, ascending = False)\n",
    "gostota_na_kontinentu.plot.bar()"
   ]
  },
  {
   "cell_type": "code",
   "execution_count": 47,
   "metadata": {},
   "outputs": [
    {
     "data": {
      "text/plain": [
       "<Axes: xlabel='kontinent'>"
      ]
     },
     "execution_count": 47,
     "metadata": {},
     "output_type": "execute_result"
    },
    {
     "data": {
      "image/png": "[encoded data removed]",
      "text/plain": [
       "<Figure size 640x480 with 1 Axes>"
      ]
     },
     "metadata": {},
     "output_type": "display_data"
    }
   ],
   "source": [
    "gdp_na_kontinentu = drzave.groupby(by=\"kontinent\")[\"gdp (USD per capita)\"].sum()\n",
    "gdp_na_kontinentu.sort_values(inplace = True, ascending = False)\n",
    "gdp_na_kontinentu.plot.bar()"
   ]
  },
  {
   "cell_type": "code",
   "execution_count": 49,
   "metadata": {},
   "outputs": [
    {
     "data": {
      "text/html": [
       "<div>\n",
       "<style scoped>\n",
       "    .dataframe tbody tr th:only-of-type {\n",
       "        vertical-align: middle;\n",
       "    }\n",
       "\n",
       "    .dataframe tbody tr th {\n",
       "        vertical-align: top;\n",
       "    }\n",
       "\n",
       "    .dataframe thead th {\n",
       "        text-align: right;\n",
       "    }\n",
       "</style>\n",
       "<table border=\"1\" class=\"dataframe\">\n",
       "  <thead>\n",
       "    <tr style=\"text-align: right;\">\n",
       "      <th></th>\n",
       "      <th>kontinent</th>\n",
       "      <th>gdp (USD per capita)</th>\n",
       "    </tr>\n",
       "    <tr>\n",
       "      <th>ime</th>\n",
       "      <th></th>\n",
       "      <th></th>\n",
       "    </tr>\n",
       "  </thead>\n",
       "  <tbody>\n",
       "    <tr>\n",
       "      <th>Qatar</th>\n",
       "      <td>Asia</td>\n",
       "      <td>128646</td>\n",
       "    </tr>\n",
       "    <tr>\n",
       "      <th>Luxembourg</th>\n",
       "      <td>Europe</td>\n",
       "      <td>107640</td>\n",
       "    </tr>\n",
       "    <tr>\n",
       "      <th>Singapore</th>\n",
       "      <td>Asia</td>\n",
       "      <td>94104</td>\n",
       "    </tr>\n",
       "    <tr>\n",
       "      <th>Brunei</th>\n",
       "      <td>Asia</td>\n",
       "      <td>79003</td>\n",
       "    </tr>\n",
       "    <tr>\n",
       "      <th>Ireland</th>\n",
       "      <td>Europe</td>\n",
       "      <td>76744</td>\n",
       "    </tr>\n",
       "    <tr>\n",
       "      <th>United Arab Emirates</th>\n",
       "      <td>Asia</td>\n",
       "      <td>74035</td>\n",
       "    </tr>\n",
       "    <tr>\n",
       "      <th>Kuwait</th>\n",
       "      <td>Asia</td>\n",
       "      <td>72095</td>\n",
       "    </tr>\n",
       "    <tr>\n",
       "      <th>Switzerland</th>\n",
       "      <td>Europe</td>\n",
       "      <td>66307</td>\n",
       "    </tr>\n",
       "    <tr>\n",
       "      <th>San Marino</th>\n",
       "      <td>Europe</td>\n",
       "      <td>63548</td>\n",
       "    </tr>\n",
       "    <tr>\n",
       "      <th>Norway</th>\n",
       "      <td>Europe</td>\n",
       "      <td>62182</td>\n",
       "    </tr>\n",
       "    <tr>\n",
       "      <th>United States</th>\n",
       "      <td>America</td>\n",
       "      <td>59927</td>\n",
       "    </tr>\n",
       "    <tr>\n",
       "      <th>Iceland</th>\n",
       "      <td>Europe</td>\n",
       "      <td>55322</td>\n",
       "    </tr>\n",
       "    <tr>\n",
       "      <th>Netherlands</th>\n",
       "      <td>Europe</td>\n",
       "      <td>54422</td>\n",
       "    </tr>\n",
       "    <tr>\n",
       "      <th>Denmark</th>\n",
       "      <td>Europe</td>\n",
       "      <td>54356</td>\n",
       "    </tr>\n",
       "    <tr>\n",
       "      <th>Saudi Arabia</th>\n",
       "      <td>Asia</td>\n",
       "      <td>53893</td>\n",
       "    </tr>\n",
       "  </tbody>\n",
       "</table>\n",
       "</div>"
      ],
      "text/plain": [
       "                     kontinent  gdp (USD per capita)\n",
       "ime                                                 \n",
       "Qatar                     Asia                128646\n",
       "Luxembourg              Europe                107640\n",
       "Singapore                 Asia                 94104\n",
       "Brunei                    Asia                 79003\n",
       "Ireland                 Europe                 76744\n",
       "United Arab Emirates      Asia                 74035\n",
       "Kuwait                    Asia                 72095\n",
       "Switzerland             Europe                 66307\n",
       "San Marino              Europe                 63548\n",
       "Norway                  Europe                 62182\n",
       "United States          America                 59927\n",
       "Iceland                 Europe                 55322\n",
       "Netherlands             Europe                 54422\n",
       "Denmark                 Europe                 54356\n",
       "Saudi Arabia              Asia                 53893"
      ]
     },
     "execution_count": 49,
     "metadata": {},
     "output_type": "execute_result"
    }
   ],
   "source": [
    "drzave.sort_values(\"gdp (USD per capita)\", ascending = False)[[\"kontinent\", \"gdp (USD per capita)\"]].head(15)"
   ]
  }
 ],
 "metadata": {
  "kernelspec": {
   "display_name": "Python 3",
   "language": "python",
   "name": "python3"
  },
  "language_info": {
   "codemirror_mode": {
    "name": "ipython",
    "version": 3
   },
   "file_extension": ".py",
   "mimetype": "text/x-python",
   "name": "python",
   "nbconvert_exporter": "python",
   "pygments_lexer": "ipython3",
   "version": "3.11.2"
  }
 },
 "nbformat": 4,
 "nbformat_minor": 2
}
